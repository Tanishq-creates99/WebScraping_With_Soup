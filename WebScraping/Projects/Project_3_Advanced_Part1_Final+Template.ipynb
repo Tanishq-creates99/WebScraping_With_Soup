{
 "cells": [
  {
   "cell_type": "markdown",
   "metadata": {},
   "source": [
    "### Imports"
   ]
  },
  {
   "cell_type": "code",
   "execution_count": 1,
   "metadata": {},
   "outputs": [],
   "source": [
    "from bs4 import BeautifulSoup\n",
    "import requests\n",
    "import pandas as pd \n",
    "import urllib.parse "
   ]
  },
  {
   "cell_type": "markdown",
   "metadata": {},
   "source": [
    "### HTTP Request"
   ]
  },
  {
   "cell_type": "markdown",
   "metadata": {},
   "source": [
    "#### store website in variable"
   ]
  },
  {
   "cell_type": "code",
   "execution_count": 2,
   "metadata": {},
   "outputs": [],
   "source": [
    "website = 'https://www.yellowpages.com/search?search_terms=restaurant&geo_location_terms=New+York%2C+NY'"
   ]
  },
  {
   "cell_type": "markdown",
   "metadata": {},
   "source": [
    "#### Get Request"
   ]
  },
  {
   "cell_type": "code",
   "execution_count": 3,
   "metadata": {},
   "outputs": [],
   "source": [
    "response = requests.get(website)"
   ]
  },
  {
   "cell_type": "markdown",
   "metadata": {},
   "source": [
    "#### Status Code"
   ]
  },
  {
   "cell_type": "code",
   "execution_count": 4,
   "metadata": {},
   "outputs": [
    {
     "data": {
      "text/plain": [
       "200"
      ]
     },
     "execution_count": 4,
     "metadata": {},
     "output_type": "execute_result"
    }
   ],
   "source": [
    "response.status_code"
   ]
  },
  {
   "cell_type": "markdown",
   "metadata": {},
   "source": [
    "### Soup Object "
   ]
  },
  {
   "cell_type": "code",
   "execution_count": 5,
   "metadata": {},
   "outputs": [],
   "source": [
    "soup = BeautifulSoup(response.content, 'html.parser')"
   ]
  },
  {
   "cell_type": "code",
   "execution_count": null,
   "metadata": {},
   "outputs": [],
   "source": [
    "soup "
   ]
  },
  {
   "cell_type": "markdown",
   "metadata": {},
   "source": [
    "### Results"
   ]
  },
  {
   "cell_type": "code",
   "execution_count": 7,
   "metadata": {},
   "outputs": [],
   "source": [
    "result_container = soup.find_all('div', {'class':'result'})"
   ]
  },
  {
   "cell_type": "code",
   "execution_count": null,
   "metadata": {},
   "outputs": [],
   "source": [
    "result_container"
   ]
  },
  {
   "cell_type": "code",
   "execution_count": 9,
   "metadata": {},
   "outputs": [
    {
     "data": {
      "text/plain": [
       "30"
      ]
     },
     "execution_count": 9,
     "metadata": {},
     "output_type": "execute_result"
    }
   ],
   "source": [
    "len(result_container)"
   ]
  },
  {
   "cell_type": "code",
   "execution_count": null,
   "metadata": {},
   "outputs": [],
   "source": []
  },
  {
   "cell_type": "markdown",
   "metadata": {},
   "source": [
    "### Concatenate 2 URL Parts to get absolute URL"
   ]
  },
  {
   "cell_type": "markdown",
   "metadata": {},
   "source": [
    "#### URL Part 1"
   ]
  },
  {
   "cell_type": "code",
   "execution_count": 10,
   "metadata": {},
   "outputs": [],
   "source": [
    "# we combine url part no.1 with url part no.2 in order to get the absolute url\n",
    "\n",
    "url_part_1 = 'https://www.yellowpages.com/'"
   ]
  },
  {
   "cell_type": "markdown",
   "metadata": {},
   "source": [
    "#### Create List for URL Part 2"
   ]
  },
  {
   "cell_type": "code",
   "execution_count": 11,
   "metadata": {},
   "outputs": [],
   "source": [
    "url_part_2 = []\n",
    "\n",
    "# loop through results\n",
    "for item in result_container:\n",
    "    # loop through links\n",
    "    for link in item.find_all('a', {'class': 'business-name'}):\n",
    "        url_part_2.append(link.get('href'))"
   ]
  },
  {
   "cell_type": "code",
   "execution_count": 12,
   "metadata": {},
   "outputs": [
    {
     "data": {
      "text/plain": [
       "['/new-york-ny/mip/mr-ks-407372?lid=1001117676060',\n",
       " '/new-york-ny/mip/sevens-turkish-grill-460080517?lid=1000439506725',\n",
       " '/new-york-ny/mip/todaro-brothers-5642814?lid=1001105931389',\n",
       " '/new-york-ny/mip/babbo-285698',\n",
       " '/new-york-ny/mip/sparks-steak-house-15362553',\n",
       " '/new-york-ny/mip/bianca-6255318',\n",
       " '/new-york-ny/mip/blind-pig-8526127',\n",
       " '/new-york-ny/mip/old-homestead-steakhouse-1275150',\n",
       " '/new-york-ny/mip/esca-3306782',\n",
       " '/new-york-ny/mip/dave-busters-8889637',\n",
       " '/new-york-ny/mip/paul-jimmys-restaurant-2388948',\n",
       " '/new-york-ny/mip/pig-whistle-pub-restaurant-3605566',\n",
       " '/new-york-ny/mip/festival-restaurant-4598334',\n",
       " '/new-york-ny/mip/bobby-vans-steakhouse-54th-street-11139387',\n",
       " '/new-york-ny/mip/waldys-wood-fired-pizza-penne-16097243',\n",
       " '/new-york-ny/mip/pita-grill-6265201',\n",
       " '/new-york-ny/mip/johnny-rock-10705734',\n",
       " '/new-york-ny/mip/smac-459052000',\n",
       " '/new-york-ny/mip/firefly-11739917',\n",
       " '/new-york-ny/mip/menchanko-tei-restaurant-2659878',\n",
       " '/new-york-ny/mip/el-presidente-restaurant-5220578',\n",
       " '/new-york-ny/mip/red-house-12325724',\n",
       " '/new-york-ny/mip/lukes-lobster-450845415',\n",
       " '/new-york-ny/mip/gramercy-caf-3465042',\n",
       " '/new-york-ny/mip/frankies-spuntino-10889409',\n",
       " '/new-york-ny/mip/pinto-restaurant-12974269',\n",
       " '/new-york-ny/mip/mughlai-indian-cuisine-4398082',\n",
       " '/new-york-ny/mip/planet-hollywood-891219',\n",
       " '/new-york-ny/mip/sofias-460197252',\n",
       " '/new-york-ny/mip/cafe-daniellos-9005972']"
      ]
     },
     "execution_count": 12,
     "metadata": {},
     "output_type": "execute_result"
    }
   ],
   "source": [
    "url_part_2"
   ]
  },
  {
   "cell_type": "markdown",
   "metadata": {},
   "source": [
    "#### Join Url 1 and Url 2"
   ]
  },
  {
   "cell_type": "code",
   "execution_count": 13,
   "metadata": {},
   "outputs": [],
   "source": [
    "url_joined = []\n",
    "\n",
    "for link_2 in url_part_2:\n",
    "    url_joined.append(urllib.parse.urljoin(url_part_1, link_2))"
   ]
  },
  {
   "cell_type": "code",
   "execution_count": 14,
   "metadata": {},
   "outputs": [
    {
     "data": {
      "text/plain": [
       "['https://www.yellowpages.com/new-york-ny/mip/mr-ks-407372?lid=1001117676060',\n",
       " 'https://www.yellowpages.com/new-york-ny/mip/sevens-turkish-grill-460080517?lid=1000439506725',\n",
       " 'https://www.yellowpages.com/new-york-ny/mip/todaro-brothers-5642814?lid=1001105931389',\n",
       " 'https://www.yellowpages.com/new-york-ny/mip/babbo-285698',\n",
       " 'https://www.yellowpages.com/new-york-ny/mip/sparks-steak-house-15362553',\n",
       " 'https://www.yellowpages.com/new-york-ny/mip/bianca-6255318',\n",
       " 'https://www.yellowpages.com/new-york-ny/mip/blind-pig-8526127',\n",
       " 'https://www.yellowpages.com/new-york-ny/mip/old-homestead-steakhouse-1275150',\n",
       " 'https://www.yellowpages.com/new-york-ny/mip/esca-3306782',\n",
       " 'https://www.yellowpages.com/new-york-ny/mip/dave-busters-8889637',\n",
       " 'https://www.yellowpages.com/new-york-ny/mip/paul-jimmys-restaurant-2388948',\n",
       " 'https://www.yellowpages.com/new-york-ny/mip/pig-whistle-pub-restaurant-3605566',\n",
       " 'https://www.yellowpages.com/new-york-ny/mip/festival-restaurant-4598334',\n",
       " 'https://www.yellowpages.com/new-york-ny/mip/bobby-vans-steakhouse-54th-street-11139387',\n",
       " 'https://www.yellowpages.com/new-york-ny/mip/waldys-wood-fired-pizza-penne-16097243',\n",
       " 'https://www.yellowpages.com/new-york-ny/mip/pita-grill-6265201',\n",
       " 'https://www.yellowpages.com/new-york-ny/mip/johnny-rock-10705734',\n",
       " 'https://www.yellowpages.com/new-york-ny/mip/smac-459052000',\n",
       " 'https://www.yellowpages.com/new-york-ny/mip/firefly-11739917',\n",
       " 'https://www.yellowpages.com/new-york-ny/mip/menchanko-tei-restaurant-2659878',\n",
       " 'https://www.yellowpages.com/new-york-ny/mip/el-presidente-restaurant-5220578',\n",
       " 'https://www.yellowpages.com/new-york-ny/mip/red-house-12325724',\n",
       " 'https://www.yellowpages.com/new-york-ny/mip/lukes-lobster-450845415',\n",
       " 'https://www.yellowpages.com/new-york-ny/mip/gramercy-caf-3465042',\n",
       " 'https://www.yellowpages.com/new-york-ny/mip/frankies-spuntino-10889409',\n",
       " 'https://www.yellowpages.com/new-york-ny/mip/pinto-restaurant-12974269',\n",
       " 'https://www.yellowpages.com/new-york-ny/mip/mughlai-indian-cuisine-4398082',\n",
       " 'https://www.yellowpages.com/new-york-ny/mip/planet-hollywood-891219',\n",
       " 'https://www.yellowpages.com/new-york-ny/mip/sofias-460197252',\n",
       " 'https://www.yellowpages.com/new-york-ny/mip/cafe-daniellos-9005972']"
      ]
     },
     "execution_count": 14,
     "metadata": {},
     "output_type": "execute_result"
    }
   ],
   "source": [
    "url_joined"
   ]
  },
  {
   "cell_type": "markdown",
   "metadata": {},
   "source": [
    "### Get Data from First Link "
   ]
  },
  {
   "cell_type": "code",
   "execution_count": 15,
   "metadata": {},
   "outputs": [],
   "source": [
    "# Name\n",
    "# Address\n",
    "# Phone\n",
    "# Email\n",
    "# Website\n",
    "# General Info"
   ]
  },
  {
   "cell_type": "markdown",
   "metadata": {},
   "source": [
    "#### Store first link in variable\n"
   ]
  },
  {
   "cell_type": "code",
   "execution_count": 16,
   "metadata": {},
   "outputs": [],
   "source": [
    "first_link = url_joined[0]"
   ]
  },
  {
   "cell_type": "markdown",
   "metadata": {},
   "source": [
    "#### Get Request & Soup Object"
   ]
  },
  {
   "cell_type": "code",
   "execution_count": 17,
   "metadata": {},
   "outputs": [],
   "source": [
    "response = requests.get(first_link)"
   ]
  },
  {
   "cell_type": "code",
   "execution_count": 18,
   "metadata": {},
   "outputs": [],
   "source": [
    "soup = BeautifulSoup(response.content, 'html.parser')"
   ]
  },
  {
   "cell_type": "code",
   "execution_count": null,
   "metadata": {},
   "outputs": [],
   "source": [
    "soup "
   ]
  },
  {
   "cell_type": "markdown",
   "metadata": {},
   "source": [
    "#### Name"
   ]
  },
  {
   "cell_type": "code",
   "execution_count": 20,
   "metadata": {},
   "outputs": [
    {
     "data": {
      "text/plain": [
       "\"Mr. K's\""
      ]
     },
     "execution_count": 20,
     "metadata": {},
     "output_type": "execute_result"
    }
   ],
   "source": [
    "soup.find('h1').get_text()"
   ]
  },
  {
   "cell_type": "markdown",
   "metadata": {},
   "source": [
    "#### Address"
   ]
  },
  {
   "cell_type": "code",
   "execution_count": 21,
   "metadata": {},
   "outputs": [
    {
     "ename": "AttributeError",
     "evalue": "'NoneType' object has no attribute 'get_text'",
     "output_type": "error",
     "traceback": [
      "\u001b[0;31m---------------------------------------------------------------------------\u001b[0m",
      "\u001b[0;31mAttributeError\u001b[0m                            Traceback (most recent call last)",
      "\u001b[0;32m/var/folders/v_/4tw16hrx62v_02vx8pw4yqrm0000gn/T/ipykernel_34727/523486241.py\u001b[0m in \u001b[0;36m<module>\u001b[0;34m\u001b[0m\n\u001b[0;32m----> 1\u001b[0;31m \u001b[0msoup\u001b[0m\u001b[0;34m.\u001b[0m\u001b[0mfind\u001b[0m\u001b[0;34m(\u001b[0m\u001b[0;34m'h2'\u001b[0m\u001b[0;34m,\u001b[0m \u001b[0;34m{\u001b[0m\u001b[0;34m'class'\u001b[0m\u001b[0;34m:\u001b[0m \u001b[0;34m'address'\u001b[0m\u001b[0;34m}\u001b[0m\u001b[0;34m)\u001b[0m\u001b[0;34m.\u001b[0m\u001b[0mget_text\u001b[0m\u001b[0;34m(\u001b[0m\u001b[0;34m)\u001b[0m\u001b[0;34m\u001b[0m\u001b[0;34m\u001b[0m\u001b[0m\n\u001b[0m",
      "\u001b[0;31mAttributeError\u001b[0m: 'NoneType' object has no attribute 'get_text'"
     ]
    }
   ],
   "source": [
    "soup.find('h2', {'class': 'address'}).get_text()"
   ]
  },
  {
   "cell_type": "markdown",
   "metadata": {},
   "source": [
    "#### Phone"
   ]
  },
  {
   "cell_type": "code",
   "execution_count": null,
   "metadata": {},
   "outputs": [
    {
     "data": {
      "text/plain": [
       "'(212) 583-1668'"
      ]
     },
     "execution_count": 34,
     "metadata": {},
     "output_type": "execute_result"
    }
   ],
   "source": [
    "soup.find('p', {'class':'phone'}).get_text()"
   ]
  },
  {
   "cell_type": "markdown",
   "metadata": {},
   "source": [
    "#### Email"
   ]
  },
  {
   "cell_type": "code",
   "execution_count": null,
   "metadata": {},
   "outputs": [],
   "source": [
    "# most important part"
   ]
  },
  {
   "cell_type": "code",
   "execution_count": null,
   "metadata": {},
   "outputs": [
    {
     "data": {
      "text/plain": [
       "'info@movingmaninc.com'"
      ]
     },
     "execution_count": 38,
     "metadata": {},
     "output_type": "execute_result"
    }
   ],
   "source": [
    "soup.find('a', {'class': 'email-business'}).get('href').split('mailto:')[1]"
   ]
  },
  {
   "cell_type": "markdown",
   "metadata": {},
   "source": [
    "#### Website"
   ]
  },
  {
   "cell_type": "code",
   "execution_count": null,
   "metadata": {},
   "outputs": [
    {
     "data": {
      "text/plain": [
       "'http://www.mrksny.com'"
      ]
     },
     "execution_count": 40,
     "metadata": {},
     "output_type": "execute_result"
    }
   ],
   "source": [
    "soup.find('a', {'class': 'website-link'}).get('href')"
   ]
  },
  {
   "cell_type": "markdown",
   "metadata": {},
   "source": [
    "#### General Info"
   ]
  },
  {
   "cell_type": "code",
   "execution_count": null,
   "metadata": {},
   "outputs": [],
   "source": [
    "soup.find('dd', {'class': 'general-info'}).get_text()"
   ]
  },
  {
   "cell_type": "code",
   "execution_count": null,
   "metadata": {},
   "outputs": [],
   "source": []
  },
  {
   "cell_type": "markdown",
   "metadata": {},
   "source": [
    "### Put all together and loop through all pages"
   ]
  },
  {
   "cell_type": "code",
   "execution_count": null,
   "metadata": {},
   "outputs": [],
   "source": [
    "# empty list - we need it so we can append all results - hand it over to pandas dataframe\n",
    "results = []\n",
    "\n",
    "# loop through all joined links\n",
    "for link in url_joined:\n",
    "    response = requests.get(link)\n",
    "    \n",
    "    # create soup object\n",
    "    soup = BeautifulSoup(response.content, 'html.parser')\n",
    "    \n",
    "    # name\n",
    "    try:\n",
    "        name = soup.find('h1').get_text()\n",
    "    except:\n",
    "        name = 'n/a'\n",
    "        \n",
    "    # address \n",
    "    try:\n",
    "        address = soup.find('h2', {'class': 'address'}).get_text()\n",
    "    except:\n",
    "        address = 'n/a'\n",
    "        \n",
    "    # phone\n",
    "    try:\n",
    "        phone = soup.find('p', {'class':'phone'}).get_text()\n",
    "    except:\n",
    "        phone = 'n/a'\n",
    "        \n",
    "    # email\n",
    "    try:\n",
    "        email = soup.find('a', {'class': 'email-business'}).get('href').split('mailto:')[1]\n",
    "    except:\n",
    "        email = 'n/a'\n",
    "        \n",
    "    # website\n",
    "    try:\n",
    "        website = soup.find('a', {'class': 'website-link'}).get('href')\n",
    "    except:\n",
    "        website = 'n/a'\n",
    "        \n",
    "    # general info\n",
    "    try:\n",
    "        info = soup.find('dd', {'class': 'general-info'}).get_text()\n",
    "    except:\n",
    "        info = 'n/a'\n",
    "        \n",
    "    \n",
    "    # create dictionary with results\n",
    "    output = {'Restaurant Name': name, 'Address': address, 'Phone': phone, 'Email': email, 'Homepage':website,\n",
    "             'Info':info}\n",
    "    \n",
    "    # append results in empty list\n",
    "    results.append(output) "
   ]
  },
  {
   "cell_type": "markdown",
   "metadata": {},
   "source": [
    "### Create Pandas Dataframe"
   ]
  },
  {
   "cell_type": "code",
   "execution_count": null,
   "metadata": {},
   "outputs": [],
   "source": [
    "df = pd.DataFrame(results)"
   ]
  },
  {
   "cell_type": "code",
   "execution_count": null,
   "metadata": {},
   "outputs": [
    {
     "data": {
      "text/html": [
       "<div>\n",
       "<style scoped>\n",
       "    .dataframe tbody tr th:only-of-type {\n",
       "        vertical-align: middle;\n",
       "    }\n",
       "\n",
       "    .dataframe tbody tr th {\n",
       "        vertical-align: top;\n",
       "    }\n",
       "\n",
       "    .dataframe thead th {\n",
       "        text-align: right;\n",
       "    }\n",
       "</style>\n",
       "<table border=\"1\" class=\"dataframe\">\n",
       "  <thead>\n",
       "    <tr style=\"text-align: right;\">\n",
       "      <th></th>\n",
       "      <th>Restaurant Name</th>\n",
       "      <th>Address</th>\n",
       "      <th>Phone</th>\n",
       "      <th>Email</th>\n",
       "      <th>Homepage</th>\n",
       "      <th>Info</th>\n",
       "    </tr>\n",
       "  </thead>\n",
       "  <tbody>\n",
       "    <tr>\n",
       "      <th>0</th>\n",
       "      <td>Mr. K's</td>\n",
       "      <td>570 Lexington AveNew York, NY 10022</td>\n",
       "      <td>(212) 583-1668</td>\n",
       "      <td>info@movingmaninc.com</td>\n",
       "      <td>http://www.mrksny.com</td>\n",
       "      <td>We offer exclusive seating to you and your par...</td>\n",
       "    </tr>\n",
       "    <tr>\n",
       "      <th>1</th>\n",
       "      <td>Potjanee Thai Restaurant of New York</td>\n",
       "      <td>48 Carmine StNew York, NY 10014</td>\n",
       "      <td>(212) 558-9071</td>\n",
       "      <td>mthitna2011@gmail.com</td>\n",
       "      <td>http://potjanee.net</td>\n",
       "      <td>If you're looking for authentic Thai food in N...</td>\n",
       "    </tr>\n",
       "    <tr>\n",
       "      <th>2</th>\n",
       "      <td>Spoonfed New York Country</td>\n",
       "      <td>331 W 51st StNew York, NY 10019</td>\n",
       "      <td>(718) 789-3048</td>\n",
       "      <td>randy@spoonfednyc.com</td>\n",
       "      <td>http://www.spoonfed.nyc/contact-us.html</td>\n",
       "      <td>n/a</td>\n",
       "    </tr>\n",
       "    <tr>\n",
       "      <th>3</th>\n",
       "      <td>Da Noi Midtown Manhattan</td>\n",
       "      <td>214 E 49th StNew York, NY 10017</td>\n",
       "      <td>(347) 955-0067</td>\n",
       "      <td>info@danoinyc.com</td>\n",
       "      <td>http://danoinyc.com/midtown-manhattan.html</td>\n",
       "      <td>High quality dining, elegant private parties a...</td>\n",
       "    </tr>\n",
       "    <tr>\n",
       "      <th>4</th>\n",
       "      <td>Seven's Turkish Grill</td>\n",
       "      <td>158 W 72nd StNew York, NY 10023</td>\n",
       "      <td>(212) 724-4700</td>\n",
       "      <td>n/a</td>\n",
       "      <td>n/a</td>\n",
       "      <td>Here at Seven's Mediterranean Turkish Grill we...</td>\n",
       "    </tr>\n",
       "    <tr>\n",
       "      <th>5</th>\n",
       "      <td>Todaro Brothers</td>\n",
       "      <td>555 2nd AveNew York, NY 10016</td>\n",
       "      <td>(212) 532-0633</td>\n",
       "      <td>eat@todarobros.com</td>\n",
       "      <td>http://www.todarobros.com</td>\n",
       "      <td>NYC's Neighborhood Market since 1917.  Todaro ...</td>\n",
       "    </tr>\n",
       "    <tr>\n",
       "      <th>6</th>\n",
       "      <td>Punch</td>\n",
       "      <td>913 BroadwayNew York, NY 10010</td>\n",
       "      <td>(212) 673-6333</td>\n",
       "      <td>n/a</td>\n",
       "      <td>http://www.punchrestaurant.com</td>\n",
       "      <td>Punch Restaurant and Bar is located in the Fla...</td>\n",
       "    </tr>\n",
       "    <tr>\n",
       "      <th>7</th>\n",
       "      <td>Alpha Fusion</td>\n",
       "      <td>365 W 34th StNew York, NY 10001</td>\n",
       "      <td>(212) 279-8887</td>\n",
       "      <td>evazhng@yahoo.com</td>\n",
       "      <td>http://www.alpha34.com</td>\n",
       "      <td>n/a</td>\n",
       "    </tr>\n",
       "    <tr>\n",
       "      <th>8</th>\n",
       "      <td>Babbo</td>\n",
       "      <td>110 Waverly Pl Frnt ANew York, NY 10011</td>\n",
       "      <td>(212) 777-0303</td>\n",
       "      <td>hospitality@babbonyc.com</td>\n",
       "      <td>https://www.babbonyc.com</td>\n",
       "      <td>Babbo Ristorante e Enoteca is an exuberant cel...</td>\n",
       "    </tr>\n",
       "    <tr>\n",
       "      <th>9</th>\n",
       "      <td>Sparks Steak House</td>\n",
       "      <td>210 E 46th StNew York, NY 10017</td>\n",
       "      <td>(212) 687-4855</td>\n",
       "      <td>office@sparkssteakhouse.com</td>\n",
       "      <td>http://www.sparkssteakhouse.com</td>\n",
       "      <td>Established in 1966, Sparks Steak House featur...</td>\n",
       "    </tr>\n",
       "    <tr>\n",
       "      <th>10</th>\n",
       "      <td>Bianca</td>\n",
       "      <td>5 BoweryNew York, NY 10002</td>\n",
       "      <td>(212) 260-4666</td>\n",
       "      <td>n/a</td>\n",
       "      <td>http://www.biancanyc.com</td>\n",
       "      <td>n/a</td>\n",
       "    </tr>\n",
       "    <tr>\n",
       "      <th>11</th>\n",
       "      <td>Blind Pig</td>\n",
       "      <td>233 E 14th St Frnt 1New York, NY 10003</td>\n",
       "      <td>(212) 209-1573</td>\n",
       "      <td>info@blindpigbar.com</td>\n",
       "      <td>http://www.blindpigbar.com</td>\n",
       "      <td>n/a</td>\n",
       "    </tr>\n",
       "    <tr>\n",
       "      <th>12</th>\n",
       "      <td>Old Homestead Steakhouse</td>\n",
       "      <td>56 9th AveNew York, NY 10011</td>\n",
       "      <td>(212) 242-9040</td>\n",
       "      <td>OldHomesteadSteakhouse@gmail.com</td>\n",
       "      <td>https://theoldhomesteadsteakhouse.com</td>\n",
       "      <td>Classic Gotham Steakhouse located in the ultra...</td>\n",
       "    </tr>\n",
       "    <tr>\n",
       "      <th>13</th>\n",
       "      <td>Casa Mono</td>\n",
       "      <td>52 Irving PlNew York, NY 10003</td>\n",
       "      <td>(212) 253-2773</td>\n",
       "      <td>info@casamononyc.com</td>\n",
       "      <td>http://www.casamononyc.com</td>\n",
       "      <td>Casa Mono and its sister restaurant, Bar Jamón...</td>\n",
       "    </tr>\n",
       "    <tr>\n",
       "      <th>14</th>\n",
       "      <td>Chez Josephine</td>\n",
       "      <td>414 W 42nd StNew York, NY 10036</td>\n",
       "      <td>(212) 594-1925</td>\n",
       "      <td>jeanclaude@chezjosephine.com</td>\n",
       "      <td>http://www.chezjosephine.com</td>\n",
       "      <td>The last of its kind near 42nd Street, Chez Jo...</td>\n",
       "    </tr>\n",
       "    <tr>\n",
       "      <th>15</th>\n",
       "      <td>Esca</td>\n",
       "      <td>402 W 43rd StNew York, NY 10036</td>\n",
       "      <td>(212) 564-7272</td>\n",
       "      <td>info@mariobatali.com</td>\n",
       "      <td>http://www.esca-nyc.com</td>\n",
       "      <td>ESCA- Italian for \"bait,\" the stuff of temptat...</td>\n",
       "    </tr>\n",
       "    <tr>\n",
       "      <th>16</th>\n",
       "      <td>Dave &amp; Buster's</td>\n",
       "      <td>234 W 42nd StNew York, NY 10036</td>\n",
       "      <td>(646) 495-2015</td>\n",
       "      <td>sheelagh.wylie@madametussaudsny.com</td>\n",
       "      <td>http://www.daveandbusters.com</td>\n",
       "      <td>You know what Times Square needs? It needs mor...</td>\n",
       "    </tr>\n",
       "    <tr>\n",
       "      <th>17</th>\n",
       "      <td>Paul &amp; Jimmy's Restaurant</td>\n",
       "      <td>123 E 18th StNew York, NY 10003</td>\n",
       "      <td>(212) 475-9540</td>\n",
       "      <td>info@paulandjimmys.com</td>\n",
       "      <td>http://www.paulandjimmys.com</td>\n",
       "      <td>n/a</td>\n",
       "    </tr>\n",
       "    <tr>\n",
       "      <th>18</th>\n",
       "      <td>Bobby Van's Steakhouse - 54th Street</td>\n",
       "      <td>131 E 54th StNew York, NY 10022</td>\n",
       "      <td>(212) 207-8050</td>\n",
       "      <td>Info45@bobbyvans.com</td>\n",
       "      <td>http://www.bobbyvans.com</td>\n",
       "      <td>Bobby Van's Steakhouse New York, located at 54...</td>\n",
       "    </tr>\n",
       "    <tr>\n",
       "      <th>19</th>\n",
       "      <td>Waldy's Pizza</td>\n",
       "      <td>800 Avenue Of The AmericasNew York, NY 10001</td>\n",
       "      <td>(212) 213-5042</td>\n",
       "      <td>support@simplemenu.com</td>\n",
       "      <td>n/a</td>\n",
       "      <td>n/a</td>\n",
       "    </tr>\n",
       "    <tr>\n",
       "      <th>20</th>\n",
       "      <td>Johnny Rock</td>\n",
       "      <td>930 3rd AveNew York, NY 10022</td>\n",
       "      <td>(212) 813-0003</td>\n",
       "      <td>n/a</td>\n",
       "      <td>n/a</td>\n",
       "      <td>Serving up all-American food and fun, Johnny R...</td>\n",
       "    </tr>\n",
       "    <tr>\n",
       "      <th>21</th>\n",
       "      <td>S'mac</td>\n",
       "      <td>345 E 12th StNew York, NY 10003</td>\n",
       "      <td>(212) 358-7912</td>\n",
       "      <td>sarita@smacnyc.com</td>\n",
       "      <td>http://www.eatsmac.com</td>\n",
       "      <td>S'MAC (short for Sarita's Macaroni &amp; Cheese) i...</td>\n",
       "    </tr>\n",
       "    <tr>\n",
       "      <th>22</th>\n",
       "      <td>Menchanko-Tei Restaurant</td>\n",
       "      <td>131 E 45th StNew York, NY 10017</td>\n",
       "      <td>(212) 986-6805</td>\n",
       "      <td>n/a</td>\n",
       "      <td>n/a</td>\n",
       "      <td>n/a</td>\n",
       "    </tr>\n",
       "    <tr>\n",
       "      <th>23</th>\n",
       "      <td>Red House</td>\n",
       "      <td>203 E 14th StNew York, NY 10003</td>\n",
       "      <td>(212) 228-8288</td>\n",
       "      <td>n/a</td>\n",
       "      <td>http://www.orderredhouse.com</td>\n",
       "      <td>n/a</td>\n",
       "    </tr>\n",
       "    <tr>\n",
       "      <th>24</th>\n",
       "      <td>Luke's Lobster</td>\n",
       "      <td>93 E 7th StNew York, NY 10009</td>\n",
       "      <td>(212) 387-8487</td>\n",
       "      <td>mobsta@lukeslobster.com</td>\n",
       "      <td>http://www.lukeslobster.com/location/nyc-east-...</td>\n",
       "      <td>n/a</td>\n",
       "    </tr>\n",
       "    <tr>\n",
       "      <th>25</th>\n",
       "      <td>Gramercy Café</td>\n",
       "      <td>184 3rd AveNew York, NY 10003</td>\n",
       "      <td>(212) 982-2121</td>\n",
       "      <td>n/a</td>\n",
       "      <td>http://www.gramercycafenyc.com</td>\n",
       "      <td>n/a</td>\n",
       "    </tr>\n",
       "    <tr>\n",
       "      <th>26</th>\n",
       "      <td>Frankies 17 Spuntino</td>\n",
       "      <td>17 Clinton StNew York, NY 10002</td>\n",
       "      <td>(212) 253-2303</td>\n",
       "      <td>franks@frankiesspuntino.com</td>\n",
       "      <td>http://www.frankiesspuntino.com</td>\n",
       "      <td>n/a</td>\n",
       "    </tr>\n",
       "    <tr>\n",
       "      <th>27</th>\n",
       "      <td>Pinto Restaurant</td>\n",
       "      <td>118 Christopher St Frnt BNew York, NY 10014</td>\n",
       "      <td>(212) 366-5455</td>\n",
       "      <td>n/a</td>\n",
       "      <td>http://www.pintonyc.com/#restaurant-section</td>\n",
       "      <td>n/a</td>\n",
       "    </tr>\n",
       "    <tr>\n",
       "      <th>28</th>\n",
       "      <td>Mughlai Indian Cuisine</td>\n",
       "      <td>320 Columbus AveNew York, NY 10023</td>\n",
       "      <td>(212) 724-6363</td>\n",
       "      <td>n/a</td>\n",
       "      <td>n/a</td>\n",
       "      <td>n/a</td>\n",
       "    </tr>\n",
       "    <tr>\n",
       "      <th>29</th>\n",
       "      <td>Planet Hollywood</td>\n",
       "      <td>1540 BroadwayNew York, NY 10036</td>\n",
       "      <td>(212) 333-7827</td>\n",
       "      <td>general-information@planethollywoodintl.com</td>\n",
       "      <td>https://locations.planethollywoodintl.com/us/n...</td>\n",
       "      <td>Big stars in the big apple! Our big and bold r...</td>\n",
       "    </tr>\n",
       "  </tbody>\n",
       "</table>\n",
       "</div>"
      ],
      "text/plain": [
       "                         Restaurant Name  \\\n",
       "0                                Mr. K's   \n",
       "1   Potjanee Thai Restaurant of New York   \n",
       "2              Spoonfed New York Country   \n",
       "3               Da Noi Midtown Manhattan   \n",
       "4                  Seven's Turkish Grill   \n",
       "5                        Todaro Brothers   \n",
       "6                                  Punch   \n",
       "7                           Alpha Fusion   \n",
       "8                                  Babbo   \n",
       "9                     Sparks Steak House   \n",
       "10                                Bianca   \n",
       "11                             Blind Pig   \n",
       "12              Old Homestead Steakhouse   \n",
       "13                             Casa Mono   \n",
       "14                        Chez Josephine   \n",
       "15                                  Esca   \n",
       "16                       Dave & Buster's   \n",
       "17             Paul & Jimmy's Restaurant   \n",
       "18  Bobby Van's Steakhouse - 54th Street   \n",
       "19                         Waldy's Pizza   \n",
       "20                           Johnny Rock   \n",
       "21                                 S'mac   \n",
       "22              Menchanko-Tei Restaurant   \n",
       "23                             Red House   \n",
       "24                        Luke's Lobster   \n",
       "25                         Gramercy Café   \n",
       "26                  Frankies 17 Spuntino   \n",
       "27                      Pinto Restaurant   \n",
       "28                Mughlai Indian Cuisine   \n",
       "29                      Planet Hollywood   \n",
       "\n",
       "                                         Address           Phone  \\\n",
       "0            570 Lexington AveNew York, NY 10022  (212) 583-1668   \n",
       "1                48 Carmine StNew York, NY 10014  (212) 558-9071   \n",
       "2                331 W 51st StNew York, NY 10019  (718) 789-3048   \n",
       "3                214 E 49th StNew York, NY 10017  (347) 955-0067   \n",
       "4                158 W 72nd StNew York, NY 10023  (212) 724-4700   \n",
       "5                  555 2nd AveNew York, NY 10016  (212) 532-0633   \n",
       "6                 913 BroadwayNew York, NY 10010  (212) 673-6333   \n",
       "7                365 W 34th StNew York, NY 10001  (212) 279-8887   \n",
       "8        110 Waverly Pl Frnt ANew York, NY 10011  (212) 777-0303   \n",
       "9                210 E 46th StNew York, NY 10017  (212) 687-4855   \n",
       "10                    5 BoweryNew York, NY 10002  (212) 260-4666   \n",
       "11        233 E 14th St Frnt 1New York, NY 10003  (212) 209-1573   \n",
       "12                  56 9th AveNew York, NY 10011  (212) 242-9040   \n",
       "13                52 Irving PlNew York, NY 10003  (212) 253-2773   \n",
       "14               414 W 42nd StNew York, NY 10036  (212) 594-1925   \n",
       "15               402 W 43rd StNew York, NY 10036  (212) 564-7272   \n",
       "16               234 W 42nd StNew York, NY 10036  (646) 495-2015   \n",
       "17               123 E 18th StNew York, NY 10003  (212) 475-9540   \n",
       "18               131 E 54th StNew York, NY 10022  (212) 207-8050   \n",
       "19  800 Avenue Of The AmericasNew York, NY 10001  (212) 213-5042   \n",
       "20                 930 3rd AveNew York, NY 10022  (212) 813-0003   \n",
       "21               345 E 12th StNew York, NY 10003  (212) 358-7912   \n",
       "22               131 E 45th StNew York, NY 10017  (212) 986-6805   \n",
       "23               203 E 14th StNew York, NY 10003  (212) 228-8288   \n",
       "24                 93 E 7th StNew York, NY 10009  (212) 387-8487   \n",
       "25                 184 3rd AveNew York, NY 10003  (212) 982-2121   \n",
       "26               17 Clinton StNew York, NY 10002  (212) 253-2303   \n",
       "27   118 Christopher St Frnt BNew York, NY 10014  (212) 366-5455   \n",
       "28            320 Columbus AveNew York, NY 10023  (212) 724-6363   \n",
       "29               1540 BroadwayNew York, NY 10036  (212) 333-7827   \n",
       "\n",
       "                                          Email  \\\n",
       "0                         info@movingmaninc.com   \n",
       "1                         mthitna2011@gmail.com   \n",
       "2                         randy@spoonfednyc.com   \n",
       "3                             info@danoinyc.com   \n",
       "4                                           n/a   \n",
       "5                            eat@todarobros.com   \n",
       "6                                           n/a   \n",
       "7                             evazhng@yahoo.com   \n",
       "8                      hospitality@babbonyc.com   \n",
       "9                   office@sparkssteakhouse.com   \n",
       "10                                          n/a   \n",
       "11                         info@blindpigbar.com   \n",
       "12             OldHomesteadSteakhouse@gmail.com   \n",
       "13                         info@casamononyc.com   \n",
       "14                 jeanclaude@chezjosephine.com   \n",
       "15                         info@mariobatali.com   \n",
       "16          sheelagh.wylie@madametussaudsny.com   \n",
       "17                       info@paulandjimmys.com   \n",
       "18                         Info45@bobbyvans.com   \n",
       "19                       support@simplemenu.com   \n",
       "20                                          n/a   \n",
       "21                           sarita@smacnyc.com   \n",
       "22                                          n/a   \n",
       "23                                          n/a   \n",
       "24                      mobsta@lukeslobster.com   \n",
       "25                                          n/a   \n",
       "26                  franks@frankiesspuntino.com   \n",
       "27                                          n/a   \n",
       "28                                          n/a   \n",
       "29  general-information@planethollywoodintl.com   \n",
       "\n",
       "                                             Homepage  \\\n",
       "0                               http://www.mrksny.com   \n",
       "1                                 http://potjanee.net   \n",
       "2             http://www.spoonfed.nyc/contact-us.html   \n",
       "3          http://danoinyc.com/midtown-manhattan.html   \n",
       "4                                                 n/a   \n",
       "5                           http://www.todarobros.com   \n",
       "6                      http://www.punchrestaurant.com   \n",
       "7                              http://www.alpha34.com   \n",
       "8                            https://www.babbonyc.com   \n",
       "9                     http://www.sparkssteakhouse.com   \n",
       "10                           http://www.biancanyc.com   \n",
       "11                         http://www.blindpigbar.com   \n",
       "12              https://theoldhomesteadsteakhouse.com   \n",
       "13                         http://www.casamononyc.com   \n",
       "14                       http://www.chezjosephine.com   \n",
       "15                            http://www.esca-nyc.com   \n",
       "16                      http://www.daveandbusters.com   \n",
       "17                       http://www.paulandjimmys.com   \n",
       "18                           http://www.bobbyvans.com   \n",
       "19                                                n/a   \n",
       "20                                                n/a   \n",
       "21                             http://www.eatsmac.com   \n",
       "22                                                n/a   \n",
       "23                       http://www.orderredhouse.com   \n",
       "24  http://www.lukeslobster.com/location/nyc-east-...   \n",
       "25                     http://www.gramercycafenyc.com   \n",
       "26                    http://www.frankiesspuntino.com   \n",
       "27        http://www.pintonyc.com/#restaurant-section   \n",
       "28                                                n/a   \n",
       "29  https://locations.planethollywoodintl.com/us/n...   \n",
       "\n",
       "                                                 Info  \n",
       "0   We offer exclusive seating to you and your par...  \n",
       "1   If you're looking for authentic Thai food in N...  \n",
       "2                                                 n/a  \n",
       "3   High quality dining, elegant private parties a...  \n",
       "4   Here at Seven's Mediterranean Turkish Grill we...  \n",
       "5   NYC's Neighborhood Market since 1917.  Todaro ...  \n",
       "6   Punch Restaurant and Bar is located in the Fla...  \n",
       "7                                                 n/a  \n",
       "8   Babbo Ristorante e Enoteca is an exuberant cel...  \n",
       "9   Established in 1966, Sparks Steak House featur...  \n",
       "10                                                n/a  \n",
       "11                                                n/a  \n",
       "12  Classic Gotham Steakhouse located in the ultra...  \n",
       "13  Casa Mono and its sister restaurant, Bar Jamón...  \n",
       "14  The last of its kind near 42nd Street, Chez Jo...  \n",
       "15  ESCA- Italian for \"bait,\" the stuff of temptat...  \n",
       "16  You know what Times Square needs? It needs mor...  \n",
       "17                                                n/a  \n",
       "18  Bobby Van's Steakhouse New York, located at 54...  \n",
       "19                                                n/a  \n",
       "20  Serving up all-American food and fun, Johnny R...  \n",
       "21  S'MAC (short for Sarita's Macaroni & Cheese) i...  \n",
       "22                                                n/a  \n",
       "23                                                n/a  \n",
       "24                                                n/a  \n",
       "25                                                n/a  \n",
       "26                                                n/a  \n",
       "27                                                n/a  \n",
       "28                                                n/a  \n",
       "29  Big stars in the big apple! Our big and bold r...  "
      ]
     },
     "execution_count": 47,
     "metadata": {},
     "output_type": "execute_result"
    }
   ],
   "source": [
    "df "
   ]
  },
  {
   "cell_type": "markdown",
   "metadata": {},
   "source": [
    "### Store in Excel"
   ]
  },
  {
   "cell_type": "code",
   "execution_count": null,
   "metadata": {},
   "outputs": [],
   "source": [
    "df.to_excel('result_single_page.xlsx', index=False)"
   ]
  }
 ],
 "metadata": {
  "kernelspec": {
   "display_name": "Python 3.9.7 ('base')",
   "language": "python",
   "name": "python3"
  },
  "language_info": {
   "codemirror_mode": {
    "name": "ipython",
    "version": 3
   },
   "file_extension": ".py",
   "mimetype": "text/x-python",
   "name": "python",
   "nbconvert_exporter": "python",
   "pygments_lexer": "ipython3",
   "version": "3.9.7"
  },
  "vscode": {
   "interpreter": {
    "hash": "1579cfa5bca532924a88bd90ba059737f8ddb152db59a70fe4dc3a455ebabda1"
   }
  }
 },
 "nbformat": 4,
 "nbformat_minor": 4
}
